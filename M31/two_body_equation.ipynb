{
 "cells": [
  {
   "cell_type": "code",
   "execution_count": 7,
   "id": "bbeeb9a5",
   "metadata": {},
   "outputs": [],
   "source": [
    "import numpy as np\n",
    "import emcee\n",
    "from scipy.optimize import root_scalar\n",
    "from scipy.integrate import solve_ivp\n",
    "import astropy.coordinates as coord\n",
    "import astropy.units as u\n",
    "import corner\n",
    "import matplotlib.pyplot as plt\n",
    "import multiprocessing"
   ]
  },
  {
   "cell_type": "code",
   "execution_count": 1,
   "id": "54727e64",
   "metadata": {},
   "outputs": [
    {
     "ename": "NameError",
     "evalue": "name 'np' is not defined",
     "output_type": "error",
     "traceback": [
      "\u001b[31m---------------------------------------------------------------------------\u001b[39m",
      "\u001b[31mNameError\u001b[39m                                 Traceback (most recent call last)",
      "\u001b[36mCell\u001b[39m\u001b[36m \u001b[39m\u001b[32mIn[1]\u001b[39m\u001b[32m, line 24\u001b[39m\n\u001b[32m     18\u001b[39m     \u001b[38;5;28;01mreturn\u001b[39;00m [vx, vy, vz, ax, ay, az]\n\u001b[32m     23\u001b[39m \u001b[38;5;66;03m# 初始条件（kpc, km/s需转换）\u001b[39;00m\n\u001b[32m---> \u001b[39m\u001b[32m24\u001b[39m y0 = \u001b[43mnp\u001b[49m.zeros(\u001b[32m6\u001b[39m)\n\u001b[32m     25\u001b[39m y0[\u001b[32m0\u001b[39m:\u001b[32m3\u001b[39m] = [-\u001b[32m0.6143609652013762\u001b[39m,-\u001b[32m41.02036741646231\u001b[39m, -\u001b[32m26.832974651917674\u001b[39m]\u001b[38;5;66;03m# [500,0,0] #LMC初始位置\u001b[39;00m\n\u001b[32m     26\u001b[39m y0[\u001b[32m3\u001b[39m:\u001b[32m6\u001b[39m] = [-\u001b[32m69.81047009397867\u001b[39m, -\u001b[32m221.9356211949808\u001b[39m, \u001b[32m214.01029566668603\u001b[39m]\u001b[38;5;66;03m# [0,40,0]#     # LMC初始速度\u001b[39;00m\n",
      "\u001b[31mNameError\u001b[39m: name 'np' is not defined"
     ]
    }
   ],
   "source": [
    "# 定义二体问题的微分方程\n",
    "G=43018\n",
    "def two_body_equation(t, y, M):\n",
    "    \"\"\"\n",
    "    二体问题的微分方程\n",
    "    参数:\n",
    "        t: 时间 (Gyr)\n",
    "        y: 状态向量 [x, y, z, vx, vy, vz]\n",
    "        M: 中心天体质量 (10^10 Msun)\n",
    "    返回:\n",
    "        dydt: 状态向量的导数 [vx, vy, vz, ax, ay, az]\n",
    "    \"\"\"\n",
    "    x, y, z, vx, vy, vz = y\n",
    "    r = np.sqrt(x**2 + y**2 + z**2)\n",
    "    ax = -G * M * x / r**3\n",
    "    ay = -G * M * y / r**3\n",
    "    az = -G * M * z / r**3\n",
    "    return [vx, vy, vz, ax, ay, az]\n",
    "\n",
    "\n",
    "\n",
    "\n",
    "# 初始条件（kpc, km/s需转换）\n",
    "y0 = np.zeros(6)\n",
    "y0[0:3] = [-0.6143609652013762,-41.02036741646231, -26.832974651917674]# [500,0,0] #LMC初始位置\n",
    "y0[3:6] = [-69.81047009397867, -221.9356211949808, 214.01029566668603]# [0,40,0]#     # LMC初始速度\n",
    "\n",
    "\n",
    "# 时间范围（Gyr）\n",
    "t_span = (0, 5)  # 积分10 Gyr\n",
    "M = 100\n",
    "# 求解ODE\n",
    "sol = solve_ivp(two_body_equation, t_span, y0, method='RK45', rtol=1e-7,t_eval=np.linspace(t_span[0], t_span[1], 1000),args=(M,))\n",
    "\n",
    "# 提取结果\n",
    "t = sol.t\n",
    "x_LMC, y_LMC, z_LMC = sol.y[0], sol.y[1], sol.y[2]\n",
    "vx_LMC, vy_LMC, vz_LMC = sol.y[3], sol.y[4], sol.y[5]\n"
   ]
  },
  {
   "cell_type": "code",
   "execution_count": 2,
   "id": "682e725f",
   "metadata": {},
   "outputs": [
    {
     "ename": "NameError",
     "evalue": "name 'plt' is not defined",
     "output_type": "error",
     "traceback": [
      "\u001b[31m---------------------------------------------------------------------------\u001b[39m",
      "\u001b[31mNameError\u001b[39m                                 Traceback (most recent call last)",
      "\u001b[36mCell\u001b[39m\u001b[36m \u001b[39m\u001b[32mIn[2]\u001b[39m\u001b[32m, line 2\u001b[39m\n\u001b[32m      1\u001b[39m \u001b[38;5;66;03m# 三维轨迹可视化\u001b[39;00m\n\u001b[32m----> \u001b[39m\u001b[32m2\u001b[39m fig = \u001b[43mplt\u001b[49m.figure(figsize=(\u001b[32m10\u001b[39m, \u001b[32m8\u001b[39m))\n\u001b[32m      3\u001b[39m ax = fig.add_subplot(\u001b[32m111\u001b[39m, projection=\u001b[33m'\u001b[39m\u001b[33m3d\u001b[39m\u001b[33m'\u001b[39m)\n\u001b[32m      4\u001b[39m ax.plot(x_LMC, y_LMC, z_LMC, label=\u001b[33m'\u001b[39m\u001b[33mLMC Orbit\u001b[39m\u001b[33m'\u001b[39m)\n",
      "\u001b[31mNameError\u001b[39m: name 'plt' is not defined"
     ]
    }
   ],
   "source": [
    "# 三维轨迹可视化\n",
    "fig = plt.figure(figsize=(10, 8))\n",
    "ax = fig.add_subplot(111, projection='3d')\n",
    "ax.plot(x_LMC, y_LMC, z_LMC, label='LMC Orbit')\n",
    "\n",
    "ax.scatter(x_LMC[0], y_LMC[0], z_LMC[0], c='r', marker='o', label='LMC Initial')\n",
    "\n",
    "ax.set_xlabel('X (kpc)')\n",
    "ax.set_ylabel('Y (kpc)')\n",
    "ax.set_zlabel('Z (kpc)')\n",
    "ax.set_xlim(-300, 300)\n",
    "ax.set_ylim(-300, 300)\n",
    "ax.set_zlim(-300, 300)\n",
    "plt.legend()\n",
    "plt.show()"
   ]
  },
  {
   "cell_type": "code",
   "execution_count": 9,
   "id": "e2154678",
   "metadata": {},
   "outputs": [
    {
     "name": "stdout",
     "output_type": "stream",
     "text": [
      "t=3 Gyr时的LMC位置: (-8.72, -15.28, 35.87) kpc\n",
      "t=3 Gyr时的LMC速度: (-46.98, -395.11, -36.64) km/s\n"
     ]
    },
    {
     "data": {
      "image/png": "[encoded data removed]",
      "text/plain": [
       "<Figure size 640x480 with 1 Axes>"
      ]
     },
     "metadata": {},
     "output_type": "display_data"
    }
   ],
   "source": [
    "rlmc_mw = np.sqrt((x_LMC)**2 + (y_LMC )**2 + (z_LMC)**2)\n",
    "plt.plot(t, rlmc_mw)\n",
    "plt.xlim(0, 10)\n",
    "plt.ylim(50, 450)\n",
    "#t=3时候的速度位置\n",
    "t_index = np.argmin(np.abs(t - 2.8))\n",
    "x_LMC_3 = x_LMC[t_index]\n",
    "y_LMC_3 = y_LMC[t_index]\n",
    "z_LMC_3 = z_LMC[t_index]\n",
    "vx_LMC_3 = vx_LMC[t_index]\n",
    "vy_LMC_3 = vy_LMC[t_index]\n",
    "vz_LMC_3 = vz_LMC[t_index]\n",
    "print(f\"t=3 Gyr时的LMC位置: ({x_LMC_3:.2f}, {y_LMC_3:.2f}, {z_LMC_3:.2f}) kpc\")\n",
    "print(f\"t=3 Gyr时的LMC速度: ({vx_LMC_3:.2f}, {vy_LMC_3:.2f}, {vz_LMC_3:.2f}) km/s\")"
   ]
  },
  {
   "cell_type": "code",
   "execution_count": 1,
   "id": "2195f8b9",
   "metadata": {},
   "outputs": [
    {
     "data": {
      "text/plain": [
       "10.348454135478171"
      ]
     },
     "execution_count": 1,
     "metadata": {},
     "output_type": "execute_result"
    }
   ],
   "source": [
    "233**2*8.2/43018"
   ]
  },
  {
   "cell_type": "code",
   "execution_count": 5,
   "id": "94bf2ec2",
   "metadata": {},
   "outputs": [
    {
     "data": {
      "text/plain": [
       "np.float64(5.561671559987996)"
      ]
     },
     "execution_count": 5,
     "metadata": {},
     "output_type": "execute_result"
    }
   ],
   "source": [
    "10.348+(np.exp(-2.733)*3.733-1.)*5-1"
   ]
  },
  {
   "cell_type": "code",
   "execution_count": 2,
   "id": "129df4be",
   "metadata": {},
   "outputs": [
    {
     "data": {
      "text/plain": [
       "2.733333333333333"
      ]
     },
     "execution_count": 2,
     "metadata": {},
     "output_type": "execute_result"
    }
   ],
   "source": [
    "8.2/3"
   ]
  },
  {
   "cell_type": "code",
   "execution_count": 1,
   "id": "7783ba2c",
   "metadata": {},
   "outputs": [
    {
     "data": {
      "text/plain": [
       "91.14298631766806"
      ]
     },
     "execution_count": 1,
     "metadata": {},
     "output_type": "execute_result"
    }
   ],
   "source": [
    "a= 25\n",
    "5.56*(1+8.2/a)**2/(8.2/a)**2#/2/np.pi/a**3"
   ]
  },
  {
   "cell_type": "code",
   "execution_count": null,
   "id": "6d4042b9",
   "metadata": {},
   "outputs": [],
   "source": []
  }
 ],
 "metadata": {
  "kernelspec": {
   "display_name": "new_env",
   "language": "python",
   "name": "python3"
  },
  "language_info": {
   "codemirror_mode": {
    "name": "ipython",
    "version": 3
   },
   "file_extension": ".py",
   "mimetype": "text/x-python",
   "name": "python",
   "nbconvert_exporter": "python",
   "pygments_lexer": "ipython3",
   "version": "3.12.9"
  }
 },
 "nbformat": 4,
 "nbformat_minor": 5
}
