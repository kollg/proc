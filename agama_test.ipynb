{
 "cells": [
  {
   "cell_type": "code",
   "execution_count": 27,
   "id": "fc6700ec",
   "metadata": {},
   "outputs": [],
   "source": [
    "import agama\n",
    "import numpy as np\n",
    "import matplotlib.pyplot as plt\n",
    "agama.setUnits(length=1, mass=1e10, velocity=1)\n",
    "# 常数和参数（单位：kpc, Gyr, 10^10 Msun）\n",
    "G = 43018  # 单位转换后：kpc³/(10¹⁰ Msun·Gyr²)"
   ]
  },
  {
   "cell_type": "code",
   "execution_count": 59,
   "id": "cff3f7b8",
   "metadata": {},
   "outputs": [
    {
     "name": "stdout",
     "output_type": "stream",
     "text": [
      "69.04888444169542 168.36944434113295 11.61606675071979\n"
     ]
    }
   ],
   "source": [
    "\n",
    "a_MW = 12\n",
    "M_LMC = 20\n",
    "a_LMC = 8.5*(M_LMC/10)**0.6\n",
    "g = lambda r: np.log(1+r/a_MW)- r/(a_MW+r)\n",
    "r = np.linspace(0.1, 300, 1000)\n",
    "den = 4.2/g(8.2)/4/np.pi/a_MW**3\n",
    "#print(\"M_MW:\", M_MW)\n",
    "para_MW = agama.Density(type='Spheroid', densityNorm=den, scaleRadius=a_MW, gamma = 1,beta = 3,outerCutoffRadius=300,cutoffStrength=4)\n",
    "\n",
    "para_LMC = agama.Density(type='Spheroid', mass=M_LMC, scaleRadius=a_LMC, gamma = 1,beta = 3, outerCutoffRadius=10*a_LMC,cutoffStrength=2)\n",
    "#pot = agama.Potential(type='Multipole',density=para_LMC,\n",
    "#                                       lmax=4, gridSizeR=100, rmin=1e-1, rmax=300)\n",
    "#para_halo = agama.Potential(type='Dehnen', mass=51.324, scaleRadius=a_LMC, gamma = 1, axisRatioZ=0.5)\n",
    "pot = agama.Potential(type='Spheroid', densityNorm=den, scaleRadius=a_MW, gamma = 1,beta = 3,outerCutoffRadius=300,cutoffStrength=4)\n",
    "df_halo = agama.DistributionFunction(potential=pot, type='QuasiSpherical', density=para_MW)\n",
    "V_max = (G*para_MW.enclosedMass(2.16*a_MW)/2.16/a_MW)**0.5\n",
    "print(para_MW.enclosedMass(200), V_max,para_LMC.enclosedMass(50))\n",
    "#force,derive = para_halo.forceDeriv([8.2,0,0])\n",
    "#print(\"force:\", force*8.2)\n"
   ]
  },
  {
   "cell_type": "code",
   "execution_count": 53,
   "id": "705efcea",
   "metadata": {},
   "outputs": [
    {
     "name": "stdout",
     "output_type": "stream",
     "text": [
      "sigma: 89.2089807598033\n"
     ]
    }
   ],
   "source": [
    "r_norm = 100\n",
    "sigma = V_max*1.4393*(r_norm/a_MW)**0.354/(1+1.1756*(r_norm/a_MW)**0.752)#*np.exp(-0.5*(r_norm/200)**4)\n",
    "print(\"sigma:\", sigma)  "
   ]
  },
  {
   "cell_type": "code",
   "execution_count": 25,
   "id": "277c18ee",
   "metadata": {},
   "outputs": [
    {
     "data": {
      "text/plain": [
       "np.float64(-2473.0215067673666)"
      ]
     },
     "execution_count": 25,
     "metadata": {},
     "output_type": "execute_result"
    }
   ],
   "source": [
    "M_disk =6.8\n",
    "a_disk=3\n",
    "r_norm_lmc =10\n",
    "- G * M_disk * (1-(r_norm_lmc/a_disk+1)/np.exp(r_norm_lmc/a_disk)) / r_norm_lmc**2"
   ]
  },
  {
   "cell_type": "code",
   "execution_count": 58,
   "id": "98cfe2d5",
   "metadata": {},
   "outputs": [
    {
     "data": {
      "text/plain": [
       "89.71595471895975"
      ]
     },
     "execution_count": 58,
     "metadata": {},
     "output_type": "execute_result"
    }
   ],
   "source": [
    "grid_r  = np.linspace(0.1, 500, 2000)  # 0.1 kpc to 100 kpc\n",
    "grid_sig= agama.GalaxyModel(pot, df_halo).moments(\n",
    "    np.column_stack((grid_r, grid_r*0, grid_r*0)), dens=False, vel=False, vel2=True)[:,0]**0.5\n",
    "spl  = agama.Spline(grid_r, grid_sig)\n",
    "spl(100)"
   ]
  },
  {
   "cell_type": "code",
   "execution_count": 70,
   "id": "92da048e",
   "metadata": {},
   "outputs": [
    {
     "data": {
      "text/plain": [
       "[<matplotlib.lines.Line2D at 0x73cc5ff750a0>]"
      ]
     },
     "execution_count": 70,
     "metadata": {},
     "output_type": "execute_result"
    },
    {
     "data": {
      "image/png": "[encoded data removed]",
      "text/plain": [
       "<Figure size 640x480 with 1 Axes>"
      ]
     },
     "metadata": {},
     "output_type": "display_data"
    }
   ],
   "source": [
    "sigma_r = V_max*1.4393*(grid_r/a_MW)**0.354/(1+1.1756*(grid_r/a_MW)**0.752)*np.exp(-0.5*(grid_r/300)**2.5)\n",
    "plt.plot(grid_r, grid_sig, label='sigma')\n",
    "plt.plot(grid_r,sigma_r, label='sigma')"
   ]
  },
  {
   "cell_type": "code",
   "execution_count": 26,
   "id": "5a4e2c58",
   "metadata": {},
   "outputs": [
    {
     "name": "stdout",
     "output_type": "stream",
     "text": [
      "M_LMC: 62.37802880169114\n"
     ]
    }
   ],
   "source": [
    "M_LMC = 1.7*(44+8.7)**2/8.7**2\n",
    "print(\"M_LMC:\", M_LMC)"
   ]
  },
  {
   "cell_type": "code",
   "execution_count": null,
   "id": "6e5e5053",
   "metadata": {},
   "outputs": [
    {
     "data": {
      "text/plain": [
       "206.5574628710102"
      ]
     },
     "execution_count": 72,
     "metadata": {},
     "output_type": "execute_result"
    }
   ],
   "source": [
    "m=2.\n",
    "(G*para_MW.enclosedMass(m*a_MW)/m/a_MW)**0.5"
   ]
  },
  {
   "cell_type": "code",
   "execution_count": 20,
   "id": "a7ed2e2b",
   "metadata": {},
   "outputs": [
    {
     "name": "stdout",
     "output_type": "stream",
     "text": [
      "1.7871593496148162\n"
     ]
    }
   ],
   "source": [
    "M_LMC = 40\n",
    "a_LMC = 8.7*(M_LMC/10)**0.6\n",
    "para_LMC = agama.Density(type='Spheroid', mass=M_LMC, scaleRadius=a_LMC, gamma = 1,beta = 3, outerCutoffRadius=10*a_LMC)\n",
    "print(para_LMC.enclosedMass(8.7))\n",
    "# potential"
   ]
  },
  {
   "cell_type": "code",
   "execution_count": 31,
   "id": "0a6b34b3",
   "metadata": {},
   "outputs": [
    {
     "data": {
      "text/plain": [
       "4.018597780724347"
      ]
     },
     "execution_count": 31,
     "metadata": {},
     "output_type": "execute_result"
    }
   ],
   "source": [
    "(233**2-182.228**2)*8.2/G"
   ]
  },
  {
   "cell_type": "code",
   "execution_count": 118,
   "id": "df1bfa7c",
   "metadata": {},
   "outputs": [
    {
     "data": {
      "text/plain": [
       "np.float64(179.61765040059927)"
      ]
     },
     "execution_count": 118,
     "metadata": {},
     "output_type": "execute_result"
    }
   ],
   "source": [
    "((1.+6.8*(1-np.exp(-8.2/3)*(1+8.2/3)))*G/8.2)**0.5"
   ]
  },
  {
   "cell_type": "code",
   "execution_count": 16,
   "id": "5a3e1555",
   "metadata": {},
   "outputs": [
    {
     "name": "stdout",
     "output_type": "stream",
     "text": [
      "1.0\n"
     ]
    }
   ],
   "source": [
    "from scipy.special import erf\n",
    "X_c = 1000\n",
    "erf_term = erf(X_c) - 2 * X_c / np.sqrt(np.pi) * np.exp(-X_c**2)\n",
    "print(erf_term)"
   ]
  },
  {
   "cell_type": "code",
   "execution_count": 230,
   "id": "b22639d4",
   "metadata": {},
   "outputs": [
    {
     "name": "stdout",
     "output_type": "stream",
     "text": [
      "三次函数为: f(x) = 0.00x^3 + -0.01x^2 + 0.46x + 0.55\n"
     ]
    }
   ],
   "source": [
    "import numpy as np\n",
    "\n",
    "def calculate_cubic_four_points(x1, y1, x2, y2, x3, y3, x4, y4):\n",
    "    # 构造矩阵 A 和向量 b\n",
    "    A = np.array([\n",
    "        [x1**3, x1**2, x1, 1],\n",
    "        [x2**3, x2**2, x2, 1],\n",
    "        [x3**3, x3**2, x3, 1],\n",
    "        [x4**3, x4**2, x4, 1]\n",
    "    ])\n",
    "    b = np.array([y1, y2, y3, y4])\n",
    "    \n",
    "    # 解线性方程组 A * [a, b, c, d] = b\n",
    "    coefficients = np.linalg.solve(A, b)\n",
    "    return coefficients  # 返回 [a, b, c, d]\n",
    "\n",
    "# 示例：三点 (1, 2), (2, 3), (3, 5)\n",
    "x1, y1 = 0.5, 0.7768\n",
    "x2, y2 = 1, 1\n",
    "x3, y3 = 2, 1.4406\n",
    "x4, y4 = 1.5, 1.221\n",
    "a, b, c, d = calculate_cubic_four_points(x1, y1, x2, y2, x3, y3, x4, y4)\n",
    "print(f\"三次函数为: f(x) = {a:.2f}x^3 + {b:.2f}x^2 + {c:.2f}x + {d:.2f}\")\n"
   ]
  },
  {
   "cell_type": "code",
   "execution_count": 231,
   "id": "a345e987",
   "metadata": {},
   "outputs": [
    {
     "name": "stdout",
     "output_type": "stream",
     "text": [
      "f(0.6) = 0.82\n"
     ]
    }
   ],
   "source": [
    "x=0.6\n",
    "f_x = a*x**3 + b*x**2 + c*x + d\n",
    "print(f\"f({x}) = {f_x:.2f}\")"
   ]
  },
  {
   "cell_type": "code",
   "execution_count": 232,
   "id": "17b0f4d8",
   "metadata": {},
   "outputs": [
    {
     "data": {
      "text/plain": [
       "Text(0.5, 0, 'x')"
      ]
     },
     "execution_count": 232,
     "metadata": {},
     "output_type": "execute_result"
    },
    {
     "data": {
      "image/png": "[encoded data removed]",
      "text/plain": [
       "<Figure size 640x480 with 1 Axes>"
      ]
     },
     "metadata": {},
     "output_type": "display_data"
    }
   ],
   "source": [
    "plot_x = np.linspace(0, 2, 100)\n",
    "plot_y = a*plot_x**3 + b*plot_x**2 + c*plot_x + d\n",
    "plt.plot(plot_x, plot_y, label='Cubic Polynomial')\n",
    "plt.scatter([x1, x2, x3, x4], [y1, y2, y3, y4], color='red', label='Data Points')\n",
    "plt.xlabel('x')"
   ]
  },
  {
   "cell_type": "code",
   "execution_count": null,
   "id": "c0cade39",
   "metadata": {},
   "outputs": [
    {
     "data": {
      "text/plain": [
       "np.float64(0.9992797921276456)"
      ]
     },
     "execution_count": 30,
     "metadata": {},
     "output_type": "execute_result"
    }
   ],
   "source": [
    "np.log(1+5.3)- 5.3/6.3"
   ]
  },
  {
   "cell_type": "code",
   "execution_count": null,
   "id": "306423c7",
   "metadata": {},
   "outputs": [
    {
     "name": "stdout",
     "output_type": "stream",
     "text": [
      "M_LMC: 19.811771700356722\n",
      "9.825318240605396\n"
     ]
    }
   ],
   "source": [
    "a_LMC = 21\n",
    "M_LMC = 1.7*(a_LMC+8.7)**2/8.7**2\n",
    "print(\"M_LMC:\", M_LMC)\n",
    "LMCpot = agama.Potential(type='Dehnen', mass=M_LMC, scaleRadius=a_LMC, gamma = 1)\n",
    "print(LMCpot.enclosedMass(50))"
   ]
  },
  {
   "cell_type": "code",
   "execution_count": 76,
   "id": "534f4661",
   "metadata": {},
   "outputs": [
    {
     "name": "stdout",
     "output_type": "stream",
     "text": [
      "M_MW: 53.3896161568165\n",
      "V_max: 176.16770447693386\n"
     ]
    }
   ],
   "source": [
    "def g_concen(c):\n",
    "    return np.log(1+c) - c/(1+c)\n",
    "a_halo = 16\n",
    "M_MW = 4/g_concen(8.2/a_halo)\n",
    "print(\"M_MW:\", M_MW)\n",
    "MWpot = agama.Potential(type='NFW', mass=M_MW,scaleRadius=a_halo)\n",
    "para_MW = agama.Density(type='NFW', mass=M_MW, scaleRadius=a_halo)\n",
    "df_halo = agama.DistributionFunction(potential=MWpot, type='QuasiSpherical', density=para_MW)\n",
    "V_max = (G*para_MW.enclosedMass(2.2*a_halo)/2.2/a_halo)**0.5\n",
    "print(\"V_max:\", V_max)"
   ]
  },
  {
   "cell_type": "code",
   "execution_count": 78,
   "id": "eb25f4d2",
   "metadata": {},
   "outputs": [
    {
     "name": "stdout",
     "output_type": "stream",
     "text": [
      "16\n"
     ]
    },
    {
     "data": {
      "image/png": "[encoded data removed]",
      "text/plain": [
       "<Figure size 640x480 with 1 Axes>"
      ]
     },
     "metadata": {},
     "output_type": "display_data"
    }
   ],
   "source": [
    "grid_r  = np.linspace(0.1, 500, 2000)  # 0.1 kpc to 100 kpc\n",
    "grid_sig= agama.GalaxyModel(MWpot, df_halo).moments(\n",
    "    np.column_stack((grid_r, grid_r*0, grid_r*0)), dens=False, vel=False, vel2=True)[:,0]**0.5\n",
    "spl  = agama.Spline(grid_r, grid_sig)\n",
    "sigma_r = 176*1.4393*(grid_r/a_halo)**0.354/(1+1.1756*(grid_r/a_halo)**0.752)\n",
    "plt.plot(grid_r, grid_sig, label='sigma',color='red')\n",
    "plt.plot(grid_r,sigma_r, label='sigma')\n",
    "print(a_halo)"
   ]
  },
  {
   "cell_type": "code",
   "execution_count": null,
   "id": "9c66d204",
   "metadata": {},
   "outputs": [],
   "source": []
  }
 ],
 "metadata": {
  "kernelspec": {
   "display_name": "new_env",
   "language": "python",
   "name": "python3"
  },
  "language_info": {
   "codemirror_mode": {
    "name": "ipython",
    "version": 3
   },
   "file_extension": ".py",
   "mimetype": "text/x-python",
   "name": "python",
   "nbconvert_exporter": "python",
   "pygments_lexer": "ipython3",
   "version": "3.12.9"
  }
 },
 "nbformat": 4,
 "nbformat_minor": 5
}
