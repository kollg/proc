{
 "cells": [
  {
   "cell_type": "code",
   "execution_count": 3,
   "id": "b6d43a63",
   "metadata": {},
   "outputs": [],
   "source": [
    "import csv\n",
    "import matplotlib.pyplot as plt\n",
    "import sys\n",
    "sys.path.append('/public4/home/sc57082/local/pygadgetreader')\n",
    "import readgadget as rg \n",
    "import numpy as np\n",
    "from scipy.spatial import cKDTree"
   ]
  },
  {
   "cell_type": "code",
   "execution_count": 4,
   "id": "f56d2d8e",
   "metadata": {},
   "outputs": [
    {
     "data": {
      "text/html": [
       "\n",
       "<style>\n",
       "    .CodeMirror, .output_subarea, .input{\n",
       "        font-size: 20px;\n",
       "    }\n",
       "</style>\n"
      ],
      "text/plain": [
       "<IPython.core.display.HTML object>"
      ]
     },
     "execution_count": 4,
     "metadata": {},
     "output_type": "execute_result"
    }
   ],
   "source": [
    "from IPython.core.display import HTML\n",
    "\n",
    "HTML(\"\"\"\n",
    "<style>\n",
    "    .CodeMirror, .output_subarea, .input{\n",
    "        font-size: 20px;\n",
    "    }\n",
    "</style>\n",
    "\"\"\")"
   ]
  },
  {
   "cell_type": "code",
   "execution_count": 5,
   "id": "a545ecc7",
   "metadata": {},
   "outputs": [],
   "source": [
    "def cent_h(X):\n",
    "\n",
    "\n",
    "    # 构建 KD 树\n",
    "    tree = cKDTree(X)  \n",
    "\n",
    "    # 为每个点查询最近的30个邻居点\n",
    "    dist, ind = tree.query(X, k=50)  \n",
    "\n",
    "    # 计算局部密度\n",
    "    epsilon = 1e-5\n",
    "    rho = 1 / (dist + epsilon).sum(axis=1)\n",
    "\n",
    "    # 密度最大值点的索引\n",
    "    densest_idx = np.argmax(rho)\n",
    "\n",
    "    return X[densest_idx]"
   ]
  },
  {
   "cell_type": "code",
   "execution_count": 6,
   "id": "57e51d46",
   "metadata": {},
   "outputs": [
    {
     "name": "stdout",
     "output_type": "stream",
     "text": [
      "Returning BULGE Positions\n",
      "Returning BULGE Velocities\n",
      "Returning BULGE Positions\n",
      "Returning BULGE Velocities\n"
     ]
    }
   ],
   "source": [
    "r1 = '/public4/home/sc57082/GC/Output/cusp/cusp_8sun/incl_0/ndm/'\n",
    "i = 0\n",
    "s1 = r1 + 'snapshot_' + str(i).zfill(3) \n",
    "p1 = rg.readsnap(s1, 'pos', 'bulge')\n",
    "v1 = rg.readsnap(s1, 'vel', 'bulge')\n",
    "\n",
    "r2 = '/public4/home/sc57082/GC/Output/cusp/cusp_8sun/incl_0/ndm7/'\n",
    "s2 = r2 + 'snapshot_' + str(i).zfill(3) \n",
    "p2 = rg.readsnap(s2, 'pos', 'bulge')\n",
    "v2 = rg.readsnap(s2, 'vel', 'bulge')"
   ]
  },
  {
   "cell_type": "code",
   "execution_count": 9,
   "id": "7f417a32",
   "metadata": {},
   "outputs": [
    {
     "data": {
      "text/plain": [
       "<matplotlib.legend.Legend at 0x2ade454f3fd0>"
      ]
     },
     "execution_count": 9,
     "metadata": {},
     "output_type": "execute_result"
    },
    {
     "data": {
      "image/png": "[encoded data removed]",
      "text/plain": [
       "<Figure size 640x480 with 1 Axes>"
      ]
     },
     "metadata": {},
     "output_type": "display_data"
    }
   ],
   "source": [
    "plt.hist(p1[:,0],bins=60,label = 'vz (rt = 4kpc)')\n",
    "plt.hist(p2[:,0],bins=60,label = 'vz (rt = 5kpc)',alpha=0.5)\n",
    "plt.title('snap0')\n",
    "plt.legend()\n",
    "#plt.xlim(12,18)"
   ]
  },
  {
   "cell_type": "code",
   "execution_count": null,
   "id": "c211ace1",
   "metadata": {},
   "outputs": [],
   "source": []
  },
  {
   "cell_type": "code",
   "execution_count": null,
   "id": "8eb801fd",
   "metadata": {},
   "outputs": [],
   "source": []
  }
 ],
 "metadata": {
  "kernelspec": {
   "display_name": "python38",
   "language": "python",
   "name": "python38"
  },
  "language_info": {
   "codemirror_mode": {
    "name": "ipython",
    "version": 3
   },
   "file_extension": ".py",
   "mimetype": "text/x-python",
   "name": "python",
   "nbconvert_exporter": "python",
   "pygments_lexer": "ipython3",
   "version": "3.10.14"
  }
 },
 "nbformat": 4,
 "nbformat_minor": 5
}
